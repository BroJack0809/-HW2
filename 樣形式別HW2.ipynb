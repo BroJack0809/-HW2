{
 "cells": [
  {
   "cell_type": "markdown",
   "id": "bf3e3583",
   "metadata": {},
   "source": [
    "## ** <font size=3 color=>< /font> ** 更改字型大小&顏色"
   ]
  },
  {
   "cell_type": "code",
   "execution_count": 1,
   "id": "b2531319",
   "metadata": {},
   "outputs": [],
   "source": [
    "import numpy as np\n",
    "from tensorflow.keras.datasets import mnist\n",
    "import tensorflow.keras as keras"
   ]
  },
  {
   "cell_type": "code",
   "execution_count": 2,
   "id": "25e104e4",
   "metadata": {
    "scrolled": true
   },
   "outputs": [],
   "source": [
    "(xr,yr),(xt,yt) = mnist.load_data()"
   ]
  },
  {
   "cell_type": "markdown",
   "id": "bcda1803",
   "metadata": {},
   "source": [
    "### **<font size=5 color=red>(xr=train_image，yr=train_label),(xt=test_image,yt=test_label)</font>**"
   ]
  },
  {
   "cell_type": "code",
   "execution_count": 3,
   "id": "360935fa",
   "metadata": {},
   "outputs": [
    {
     "data": {
      "text/plain": [
       "((60000, 28, 28), (60000,), (10000, 28, 28), (10000,))"
      ]
     },
     "execution_count": 3,
     "metadata": {},
     "output_type": "execute_result"
    }
   ],
   "source": [
    "xr.shape, yr.shape, xt.shape, yt.shape"
   ]
  },
  {
   "cell_type": "code",
   "execution_count": 4,
   "id": "ca075b7d",
   "metadata": {
    "scrolled": true
   },
   "outputs": [
    {
     "name": "stdout",
     "output_type": "stream",
     "text": [
      "  0  0  0  0  0  0  0  0  0  0  0  0  0  0  0  0  0  0  0  0  0  0  0  0  0  0  0  0\n",
      "  0  0  0  0  0  0  0  0  0  0  0  0  0  0  0  0  0  0  0  0  0  0  0  0  0  0  0  0\n",
      "  0  0  0  0  0  0  0  0  0  0  0  0  0  0  0  0  0  0  0  0  0  0  0  0  0  0  0  0\n",
      "  0  0  0  0  0  0  0  0  0  0  0  0  0  0  0  0  0  0  0  0  0  0  0  0  0  0  0  0\n",
      "  0  0  0  0  0  0  0  0  0  0  0  0  0  0  0  0  0  0  0  0  0  0  0  0  0  0  0  0\n",
      "  0  0  0  0  0  0  0  0  0  0  0  0  0  0  0  0  0  0124253255 63  0  0  0  0  0  0\n",
      "  0  0  0  0  0  0  0  0  0  0  0  0  0  0  0  0  0 96244251253 62  0  0  0  0  0  0\n",
      "  0  0  0  0  0  0  0  0  0  0  0  0  0  0  0  0  0127251251253 62  0  0  0  0  0  0\n",
      "  0  0  0  0  0  0  0  0  0  0  0  0  0  0  0  0 68236251211 31  8  0  0  0  0  0  0\n",
      "  0  0  0  0  0  0  0  0  0  0  0  0  0  0  0 60228251251 94  0  0  0  0  0  0  0  0\n",
      "  0  0  0  0  0  0  0  0  0  0  0  0  0  0  0155253253189  0  0  0  0  0  0  0  0  0\n",
      "  0  0  0  0  0  0  0  0  0  0  0  0  0  0 20253251235 66  0  0  0  0  0  0  0  0  0\n",
      "  0  0  0  0  0  0  0  0  0  0  0  0  0 32205253251126  0  0  0  0  0  0  0  0  0  0\n",
      "  0  0  0  0  0  0  0  0  0  0  0  0  0104251253184 15  0  0  0  0  0  0  0  0  0  0\n",
      "  0  0  0  0  0  0  0  0  0  0  0  0 80240251193 23  0  0  0  0  0  0  0  0  0  0  0\n",
      "  0  0  0  0  0  0  0  0  0  0  0 32253253253159  0  0  0  0  0  0  0  0  0  0  0  0\n",
      "  0  0  0  0  0  0  0  0  0  0  0151251251251 39  0  0  0  0  0  0  0  0  0  0  0  0\n",
      "  0  0  0  0  0  0  0  0  0  0 48221251251172  0  0  0  0  0  0  0  0  0  0  0  0  0\n",
      "  0  0  0  0  0  0  0  0  0  0234251251196 12  0  0  0  0  0  0  0  0  0  0  0  0  0\n",
      "  0  0  0  0  0  0  0  0  0  0253251251 89  0  0  0  0  0  0  0  0  0  0  0  0  0  0\n",
      "  0  0  0  0  0  0  0  0  0159255253253 31  0  0  0  0  0  0  0  0  0  0  0  0  0  0\n",
      "  0  0  0  0  0  0  0  0 48228253247140  8  0  0  0  0  0  0  0  0  0  0  0  0  0  0\n",
      "  0  0  0  0  0  0  0  0 64251253220  0  0  0  0  0  0  0  0  0  0  0  0  0  0  0  0\n",
      "  0  0  0  0  0  0  0  0 64251253220  0  0  0  0  0  0  0  0  0  0  0  0  0  0  0  0\n",
      "  0  0  0  0  0  0  0  0 24193253220  0  0  0  0  0  0  0  0  0  0  0  0  0  0  0  0\n",
      "  0  0  0  0  0  0  0  0  0  0  0  0  0  0  0  0  0  0  0  0  0  0  0  0  0  0  0  0\n",
      "  0  0  0  0  0  0  0  0  0  0  0  0  0  0  0  0  0  0  0  0  0  0  0  0  0  0  0  0\n",
      "  0  0  0  0  0  0  0  0  0  0  0  0  0  0  0  0  0  0  0  0  0  0  0  0  0  0  0  0\n"
     ]
    }
   ],
   "source": [
    "x= xr[3]\n",
    "#%%\n",
    "for i in range(28):\n",
    "    for j in range(28):\n",
    "        z= x[i,j]\n",
    "        print(f'{z:3d}', end='')\n",
    "    print()"
   ]
  },
  {
   "cell_type": "markdown",
   "id": "fe209460",
   "metadata": {},
   "source": [
    "# range(28)的28代表是由28X28的矩陣所組成。"
   ]
  },
  {
   "cell_type": "code",
   "execution_count": 5,
   "id": "9a377a73",
   "metadata": {},
   "outputs": [
    {
     "data": {
      "text/plain": [
       "<matplotlib.image.AxesImage at 0x1d63b57fc40>"
      ]
     },
     "execution_count": 5,
     "metadata": {},
     "output_type": "execute_result"
    },
    {
     "data": {
      "image/png": "[encoded data removed]",
      "text/plain": [
       "<Figure size 432x288 with 1 Axes>"
      ]
     },
     "metadata": {
      "needs_background": "light"
     },
     "output_type": "display_data"
    }
   ],
   "source": [
    "import matplotlib.pyplot as plt\n",
    "plt.imshow(x,cmap=\"RdPu\")"
   ]
  },
  {
   "cell_type": "markdown",
   "id": "cacc9b84",
   "metadata": {},
   "source": [
    "# colormap色碼表:\n",
    "## https://matplotlib.org/stable/tutorials/colors/colormaps.html\n",
    "## https://blog.csdn.net/qq_43426078/article/details/123635851\n",
    "**<font size=5>可以選擇你要產生的圖形顏色</font>**"
   ]
  },
  {
   "cell_type": "code",
   "execution_count": 6,
   "id": "1b97863f",
   "metadata": {},
   "outputs": [
    {
     "name": "stdout",
     "output_type": "stream",
     "text": [
      "y= 5\n"
     ]
    }
   ],
   "source": [
    "y= yr[0]\n",
    "print(f'{y= }')"
   ]
  },
  {
   "cell_type": "code",
   "execution_count": 7,
   "id": "de1b2a53",
   "metadata": {},
   "outputs": [],
   "source": [
    "xr1= xr.reshape(-1, 28*28) \n",
    "xt1= xt.reshape(-1, 28*28) "
   ]
  },
  {
   "cell_type": "code",
   "execution_count": 8,
   "id": "4802c219",
   "metadata": {},
   "outputs": [],
   "source": [
    "aModel= keras.Sequential([\n",
    "    keras.Input(28*28),\n",
    "    keras.layers.Dense(100),    \n",
    "    keras.layers.Dense(10)   \n",
    "    ])\n",
    "\n",
    "aModel.compile(\n",
    "    loss=     'sparse_categorical_crossentropy',\n",
    "    metrics= ['accuracy']\n",
    "    )"
   ]
  },
  {
   "cell_type": "code",
   "execution_count": 9,
   "id": "744e2b74",
   "metadata": {},
   "outputs": [
    {
     "name": "stdout",
     "output_type": "stream",
     "text": [
      "Model: \"sequential\"\n",
      "_________________________________________________________________\n",
      " Layer (type)                Output Shape              Param #   \n",
      "=================================================================\n",
      " dense (Dense)               (None, 100)               78500     \n",
      "                                                                 \n",
      " dense_1 (Dense)             (None, 10)                1010      \n",
      "                                                                 \n",
      "=================================================================\n",
      "Total params: 79,510\n",
      "Trainable params: 79,510\n",
      "Non-trainable params: 0\n",
      "_________________________________________________________________\n"
     ]
    },
    {
     "data": {
      "image/png": "[encoded data removed]",
      "text/plain": [
       "<IPython.core.display.Image object>"
      ]
     },
     "execution_count": 9,
     "metadata": {},
     "output_type": "execute_result"
    }
   ],
   "source": [
    "aModel.summary()\n",
    "\n",
    "keras.utils.plot_model(aModel, \n",
    "    show_shapes= True, \n",
    "    show_layer_activations= True)"
   ]
  },
  {
   "cell_type": "markdown",
   "id": "3a834474",
   "metadata": {},
   "source": [
    "# **<font color=red size=15>下面是未更改前的code</font>**"
   ]
  },
  {
   "cell_type": "code",
   "execution_count": 14,
   "id": "a2b8bcb4",
   "metadata": {},
   "outputs": [
    {
     "name": "stdout",
     "output_type": "stream",
     "text": [
      "Epoch 1/30\n",
      "600/600 [==============================] - 1s 2ms/step - loss: 2.3056 - accuracy: 0.1593\n",
      "Epoch 2/30\n",
      "600/600 [==============================] - 1s 2ms/step - loss: 2.3056 - accuracy: 0.1593\n",
      "Epoch 3/30\n",
      "600/600 [==============================] - 1s 2ms/step - loss: 2.3056 - accuracy: 0.1593\n",
      "Epoch 4/30\n",
      "600/600 [==============================] - 1s 2ms/step - loss: 2.3056 - accuracy: 0.1593\n",
      "Epoch 5/30\n",
      "600/600 [==============================] - 1s 2ms/step - loss: 2.3056 - accuracy: 0.1593\n",
      "Epoch 6/30\n",
      "600/600 [==============================] - 1s 2ms/step - loss: 2.3056 - accuracy: 0.1593\n",
      "Epoch 7/30\n",
      "600/600 [==============================] - 1s 2ms/step - loss: 2.3056 - accuracy: 0.1593\n",
      "Epoch 8/30\n",
      "600/600 [==============================] - 1s 2ms/step - loss: 2.3056 - accuracy: 0.1593\n",
      "Epoch 9/30\n",
      "600/600 [==============================] - 1s 2ms/step - loss: 2.3056 - accuracy: 0.1593\n",
      "Epoch 10/30\n",
      "600/600 [==============================] - 1s 2ms/step - loss: 2.3056 - accuracy: 0.1593\n",
      "Epoch 11/30\n",
      "600/600 [==============================] - 1s 2ms/step - loss: 2.3056 - accuracy: 0.1593\n",
      "Epoch 12/30\n",
      "600/600 [==============================] - 1s 2ms/step - loss: 2.3056 - accuracy: 0.1593\n",
      "Epoch 13/30\n",
      "600/600 [==============================] - 1s 2ms/step - loss: 2.3056 - accuracy: 0.1593\n",
      "Epoch 14/30\n",
      "600/600 [==============================] - 1s 2ms/step - loss: 2.3056 - accuracy: 0.1593\n",
      "Epoch 15/30\n",
      "600/600 [==============================] - 1s 2ms/step - loss: 2.3056 - accuracy: 0.1593\n",
      "Epoch 16/30\n",
      "600/600 [==============================] - 1s 2ms/step - loss: 2.3056 - accuracy: 0.1593\n",
      "Epoch 17/30\n",
      "600/600 [==============================] - 1s 2ms/step - loss: 2.3056 - accuracy: 0.1593\n",
      "Epoch 18/30\n",
      "600/600 [==============================] - 1s 2ms/step - loss: 2.3056 - accuracy: 0.1593\n",
      "Epoch 19/30\n",
      "600/600 [==============================] - 1s 2ms/step - loss: 2.3056 - accuracy: 0.1593\n",
      "Epoch 20/30\n",
      "600/600 [==============================] - 1s 2ms/step - loss: 2.3056 - accuracy: 0.1593\n",
      "Epoch 21/30\n",
      "600/600 [==============================] - 1s 2ms/step - loss: 2.3056 - accuracy: 0.1593\n",
      "Epoch 22/30\n",
      "600/600 [==============================] - 1s 2ms/step - loss: 2.3056 - accuracy: 0.1593\n",
      "Epoch 23/30\n",
      "600/600 [==============================] - 1s 2ms/step - loss: 2.3056 - accuracy: 0.1593\n",
      "Epoch 24/30\n",
      "600/600 [==============================] - 1s 2ms/step - loss: 2.3056 - accuracy: 0.1593\n",
      "Epoch 25/30\n",
      "600/600 [==============================] - 1s 2ms/step - loss: 2.3056 - accuracy: 0.1593\n",
      "Epoch 26/30\n",
      "600/600 [==============================] - 1s 2ms/step - loss: 2.3056 - accuracy: 0.1593\n",
      "Epoch 27/30\n",
      "600/600 [==============================] - 1s 2ms/step - loss: 2.3056 - accuracy: 0.1593\n",
      "Epoch 28/30\n",
      "600/600 [==============================] - 1s 2ms/step - loss: 2.3056 - accuracy: 0.1593\n",
      "Epoch 29/30\n",
      "600/600 [==============================] - 1s 2ms/step - loss: 2.3056 - accuracy: 0.1593\n",
      "Epoch 30/30\n",
      "600/600 [==============================] - 1s 2ms/step - loss: 2.3056 - accuracy: 0.1593\n",
      "313/313 [==============================] - 0s 1ms/step - loss: 2.3054 - accuracy: 0.1619\n"
     ]
    },
    {
     "data": {
      "text/plain": [
       "[2.3054234981536865, 0.16189999878406525]"
      ]
     },
     "execution_count": 14,
     "metadata": {},
     "output_type": "execute_result"
    }
   ],
   "source": [
    "aModel.fit(xr1, yr, \n",
    "           epochs= 10, \n",
    "           batch_size= 100)\n",
    "\n",
    "aModel.evaluate(xt1, yt)"
   ]
  },
  {
   "cell_type": "markdown",
   "id": "ff00828a",
   "metadata": {},
   "source": [
    "# **<font color=red>epoch:</font>**所有data丟進Neural Network裡訓練一次，就等於1個epoch，所以epoch=?，?代表所有data會被訓練幾次。\n",
    "# **<font color=red>batch_size:</font>**把所有data分成一堆一堆的，當batch_size=?時，?等於一次會丟多少data到Neural Network裡。batch_size=100，代表一次丟100個data到Neural Network。"
   ]
  },
  {
   "cell_type": "markdown",
   "id": "86425f7c",
   "metadata": {},
   "source": [
    "# **<font color = blue size=20>進行優化</font>**"
   ]
  },
  {
   "cell_type": "code",
   "execution_count": 15,
   "id": "adebff00",
   "metadata": {},
   "outputs": [],
   "source": [
    "from keras import models\n",
    "from keras import layers\n",
    "\n",
    "network = models.Sequential()\n",
    "network.add(layers.Dense(512,activation=\"relu\",input_shape=(28*28,)))\n",
    "network.add(layers.Dense(10,activation='softmax'))"
   ]
  },
  {
   "cell_type": "code",
   "execution_count": 16,
   "id": "ee222668",
   "metadata": {},
   "outputs": [],
   "source": [
    "network.compile(\n",
    "    optimizer = 'rmsprop', # 優化器→控制梯度下降的確切規則\n",
    "    loss = 'categorical_crossentropy', # 損失函數loss function\n",
    "    metrics = ['accuracy'] # 準確度\n",
    ")"
   ]
  },
  {
   "cell_type": "code",
   "execution_count": 24,
   "id": "cf6deb0f",
   "metadata": {},
   "outputs": [],
   "source": [
    "train_images= xr.reshape((60000,28*28))\n",
    "train_images = xr.astype('float32')/ 255\n",
    "\n",
    "test_images = xt.reshape((10000,28*28))\n",
    "test_images = xt.astype('float32')/ 255"
   ]
  },
  {
   "cell_type": "code",
   "execution_count": 25,
   "id": "3849e514",
   "metadata": {},
   "outputs": [],
   "source": [
    "from tensorflow.keras.utils import to_categorical\n",
    "\n",
    "train_labels = to_categorical(yr)\n",
    "test_labels = to_categorical(yt)"
   ]
  },
  {
   "cell_type": "code",
   "execution_count": 44,
   "id": "cf19b3fc",
   "metadata": {},
   "outputs": [
    {
     "name": "stdout",
     "output_type": "stream",
     "text": [
      "Epoch 1/20\n",
      "300/300 [==============================] - 2s 6ms/step - loss: 7.5653e-04 - accuracy: 1.0000\n",
      "Epoch 2/20\n",
      "300/300 [==============================] - 2s 6ms/step - loss: 7.1271e-04 - accuracy: 1.0000\n",
      "Epoch 3/20\n",
      "300/300 [==============================] - 2s 6ms/step - loss: 7.0384e-04 - accuracy: 1.0000\n",
      "Epoch 4/20\n",
      "300/300 [==============================] - 2s 6ms/step - loss: 6.8247e-04 - accuracy: 1.0000\n",
      "Epoch 5/20\n",
      "300/300 [==============================] - 2s 6ms/step - loss: 6.4583e-04 - accuracy: 1.0000\n",
      "Epoch 6/20\n",
      "300/300 [==============================] - 2s 6ms/step - loss: 6.3273e-04 - accuracy: 1.0000\n",
      "Epoch 7/20\n",
      "300/300 [==============================] - 2s 6ms/step - loss: 6.2917e-04 - accuracy: 1.0000\n",
      "Epoch 8/20\n",
      "300/300 [==============================] - 2s 6ms/step - loss: 5.9333e-04 - accuracy: 1.0000\n",
      "Epoch 9/20\n",
      "300/300 [==============================] - 2s 6ms/step - loss: 5.9301e-04 - accuracy: 1.0000\n",
      "Epoch 10/20\n",
      "300/300 [==============================] - 2s 6ms/step - loss: 5.6997e-04 - accuracy: 1.0000\n",
      "Epoch 11/20\n",
      "300/300 [==============================] - 2s 6ms/step - loss: 5.4391e-04 - accuracy: 1.0000\n",
      "Epoch 12/20\n",
      "300/300 [==============================] - 2s 6ms/step - loss: 5.3136e-04 - accuracy: 1.0000\n",
      "Epoch 13/20\n",
      "300/300 [==============================] - 2s 6ms/step - loss: 5.4037e-04 - accuracy: 1.0000\n",
      "Epoch 14/20\n",
      "300/300 [==============================] - 2s 6ms/step - loss: 5.0394e-04 - accuracy: 1.0000\n",
      "Epoch 15/20\n",
      "300/300 [==============================] - 2s 6ms/step - loss: 5.0099e-04 - accuracy: 1.0000\n",
      "Epoch 16/20\n",
      "300/300 [==============================] - 2s 6ms/step - loss: 4.8739e-04 - accuracy: 1.0000\n",
      "Epoch 17/20\n",
      "300/300 [==============================] - 2s 6ms/step - loss: 4.5082e-04 - accuracy: 1.0000\n",
      "Epoch 18/20\n",
      "300/300 [==============================] - 2s 6ms/step - loss: 4.4782e-04 - accuracy: 1.0000\n",
      "Epoch 19/20\n",
      "300/300 [==============================] - 2s 6ms/step - loss: 4.4358e-04 - accuracy: 1.0000\n",
      "Epoch 20/20\n",
      "300/300 [==============================] - 2s 6ms/step - loss: 4.2867e-04 - accuracy: 1.0000\n"
     ]
    },
    {
     "data": {
      "text/plain": [
       "<keras.callbacks.History at 0x1d649e0f100>"
      ]
     },
     "execution_count": 44,
     "metadata": {},
     "output_type": "execute_result"
    }
   ],
   "source": [
    "network.fit(train_images,train_labels,epochs=20,batch_size=200)"
   ]
  },
  {
   "cell_type": "markdown",
   "id": "24fc28f5",
   "metadata": {},
   "source": [
    "# 總共train了19次終於accurancy能到達100%了"
   ]
  },
  {
   "cell_type": "markdown",
   "id": "c99ca26a",
   "metadata": {},
   "source": [
    "# **<font size=5 color=red>epoch下方有個300/300這個是60000/200=300的結果，因為batch_size=200，所以總共把data分成300次給Neural Network進行訓練。</font>**"
   ]
  },
  {
   "cell_type": "code",
   "execution_count": 45,
   "id": "64add8c1",
   "metadata": {},
   "outputs": [
    {
     "name": "stdout",
     "output_type": "stream",
     "text": [
      "Model: \"sequential\"\n",
      "_________________________________________________________________\n",
      " Layer (type)                Output Shape              Param #   \n",
      "=================================================================\n",
      " dense (Dense)               (None, 100)               78500     \n",
      "                                                                 \n",
      " dense_1 (Dense)             (None, 10)                1010      \n",
      "                                                                 \n",
      "=================================================================\n",
      "Total params: 79,510\n",
      "Trainable params: 79,510\n",
      "Non-trainable params: 0\n",
      "_________________________________________________________________\n"
     ]
    },
    {
     "data": {
      "image/png": "[encoded data removed]",
      "text/plain": [
       "<IPython.core.display.Image object>"
      ]
     },
     "execution_count": 45,
     "metadata": {},
     "output_type": "execute_result"
    }
   ],
   "source": [
    "aModel.summary()\n",
    "\n",
    "keras.utils.plot_model(aModel, \n",
    "    show_shapes= True, \n",
    "    show_layer_activations= True)"
   ]
  },
  {
   "cell_type": "markdown",
   "id": "d4a9cb1b",
   "metadata": {},
   "source": [
    "# **<font color=blue size=20>測試準確度</font>**"
   ]
  },
  {
   "cell_type": "code",
   "execution_count": 48,
   "id": "65cba60b",
   "metadata": {},
   "outputs": [
    {
     "name": "stdout",
     "output_type": "stream",
     "text": [
      "313/313 [==============================] - 0s 1ms/step - loss: 0.0924 - accuracy: 0.9798\n",
      "test_acc: 0.9797999858856201\n"
     ]
    }
   ],
   "source": [
    "test_loss , test_acc = network.evaluate(test_images,test_labels)\n",
    "print('test_acc:',test_acc)"
   ]
  },
  {
   "cell_type": "code",
   "execution_count": null,
   "id": "d20ab3ea",
   "metadata": {},
   "outputs": [],
   "source": []
  }
 ],
 "metadata": {
  "kernelspec": {
   "display_name": "Python 3 (ipykernel)",
   "language": "python",
   "name": "python3"
  },
  "language_info": {
   "codemirror_mode": {
    "name": "ipython",
    "version": 3
   },
   "file_extension": ".py",
   "mimetype": "text/x-python",
   "name": "python",
   "nbconvert_exporter": "python",
   "pygments_lexer": "ipython3",
   "version": "3.9.12"
  }
 },
 "nbformat": 4,
 "nbformat_minor": 5
}
